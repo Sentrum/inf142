{
 "cells": [
  {
   "cell_type": "markdown",
   "metadata": {},
   "source": [
    "Introduction to graphs in Python\n",
    "==========================\n",
    "In this short lab we introduce the concept of a graph as well as the Python library NetworkX. The latter is not essential for this course but provides a good framework for understanding graphs in Python.\n",
    "\n",
    "Let us start by importing the relevant libraries."
   ]
  },
  {
   "cell_type": "code",
   "execution_count": null,
   "metadata": {},
   "outputs": [],
   "source": [
    "# A library to work with graphs\n",
    "import networkx as nx\n",
    "# A library to plot \n",
    "import matplotlib.pyplot as plt\n",
    "# An iterator that yields pairs of consecutive elements in a sequence\n",
    "from more_itertools import pairwise "
   ]
  },
  {
   "cell_type": "markdown",
   "metadata": {},
   "source": [
    "A *graph* (more properly an *undirected graph*) is a pair\n",
    "$G = (N, E)$, where $N$ is a set whose elements are called *nodes* and\n",
    "$E$ is a set whose elements are sets called edges and consist of two nodes.\n",
    "\n",
    "**Example**\n",
    "\n",
    "$N = \\{1, 2, 3\\}$, $E = \\{\\{1, 2\\}, \\{2, 3\\}\\}$ and $G = (N, E)$\n",
    "\n",
    "Let us use NetworkX in Python to store the previous graph."
   ]
  },
  {
   "cell_type": "code",
   "execution_count": null,
   "metadata": {},
   "outputs": [],
   "source": [
    "G = nx.Graph()\n",
    "G.add_edges_from([(1, 2), (2, 3)])\n",
    "print(\"The nodes of G are {}\".format(G.nodes))\n",
    "print(\"The edges of G are {}\".format(G.edges))"
   ]
  },
  {
   "cell_type": "markdown",
   "metadata": {},
   "source": [
    "Note that NetworkX does not deal with computer networks but with graphs.\n",
    "A node $x$ is said to be a neighbor of a node $y$ if $\\{x, y\\} \\in E$."
   ]
  },
  {
   "cell_type": "code",
   "execution_count": null,
   "metadata": {},
   "outputs": [],
   "source": [
    "for node in G:\n",
    "    print(\"The neighbors of {} are {}\".format(node, list(G[node])))"
   ]
  },
  {
   "cell_type": "markdown",
   "metadata": {},
   "source": [
    "Typically, a graph is depicted in diagram of dots or circles for the vertices, joined by lines or curves for the edges."
   ]
  },
  {
   "cell_type": "code",
   "execution_count": null,
   "metadata": {},
   "outputs": [],
   "source": [
    "nx.draw(G, with_labels = True)"
   ]
  },
  {
   "cell_type": "markdown",
   "metadata": {},
   "source": [
    "Is this the figure you were expecting? Likely, that is not the case. Indeed, the following are also valid representations of $G$."
   ]
  },
  {
   "cell_type": "code",
   "execution_count": null,
   "metadata": {},
   "outputs": [],
   "source": [
    "plt.subplot(121)\n",
    "nx.draw_random(G, with_labels = True)\n",
    "plt.subplot(122)\n",
    "nx.draw_random(G, with_labels = True)"
   ]
  },
  {
   "cell_type": "markdown",
   "metadata": {},
   "source": [
    "A cost can be assigned to each edge."
   ]
  },
  {
   "cell_type": "code",
   "execution_count": null,
   "metadata": {},
   "outputs": [],
   "source": [
    "G = nx.Graph()\n",
    "G.add_edges_from([(1, 2, {'cost': 5}), (2, 3,{'cost': 10})])"
   ]
  },
  {
   "cell_type": "code",
   "execution_count": null,
   "metadata": {},
   "outputs": [],
   "source": [
    "for node_data in G.edges.data('cost'):\n",
    "    print(\"The cost of edge {{{}, {}}} is {}\".format(*node_data))"
   ]
  },
  {
   "cell_type": "markdown",
   "metadata": {},
   "source": [
    "Let us add more edges to our graph."
   ]
  },
  {
   "cell_type": "code",
   "execution_count": null,
   "metadata": {},
   "outputs": [],
   "source": [
    "G.add_edges_from([(1, 3, {'cost': 17}),\n",
    "                (2, 4, {'cost': 7}),\n",
    "                (5, 3, {'cost': 9})])\n",
    "nx.draw(G, with_labels = True)"
   ]
  },
  {
   "cell_type": "markdown",
   "metadata": {},
   "source": [
    "A *path* is a sequence of nodes $(x_1, x_2, \\ldots, x_p)$ such that each pair\n",
    "$\\{x_i, x_{i + 1}\\}$ of consecutive nodes is an edge, i.e. \n",
    "$\\{x_i, x_{i + 1}\\} \\in E$, $i = 1, \\ldots, p - 1$. For instance, in $G$ the\n",
    "sequence $(1, 3, 5)$ is a path, whereas the sequence $(1, 4, 5)$ is *not* a path. The *cost of a path* is the sum of all the edge costs along the path."
   ]
  },
  {
   "cell_type": "code",
   "execution_count": null,
   "metadata": {},
   "outputs": [],
   "source": [
    "path = [1, 3, 5]\n",
    "s = 0\n",
    "for current_node, next_node in pairwise(path):\n",
    "    s += G[current_node][next_node]['cost']\n",
    "print(\"The cost of the path {} is {}\".format(path, s))"
   ]
  },
  {
   "cell_type": "markdown",
   "metadata": {},
   "source": [
    "There might be several paths between two given nodes. The *least-cost problem*\n",
    "consists in finding a path between the two nodes that has least cost. *Dijkstra's algorithm* is used to solve this problem."
   ]
  },
  {
   "cell_type": "code",
   "execution_count": null,
   "metadata": {},
   "outputs": [],
   "source": [
    "print(nx.dijkstra_path(G, 1, 5, weight = 'cost'))"
   ]
  },
  {
   "cell_type": "markdown",
   "metadata": {},
   "source": [
    "Note that if all edges in the graph have the same cost, the least cost path is also the *shortest path*, i.e. the path with the smallest number links between the given nodes."
   ]
  },
  {
   "cell_type": "code",
   "execution_count": null,
   "metadata": {},
   "outputs": [],
   "source": [
    "print(nx.dijkstra_path(G, 1, 5))"
   ]
  },
  {
   "cell_type": "markdown",
   "metadata": {},
   "source": [
    "At this point, you have learned a couple of cool things. But, what do these have to do with computer networks? The answer is actually straightforward: graphs are used, among other things, to model computer networks (and any kind of network). Think of hosts and packet switches as nodes and the links between them as edges. For instance, the graph $G$ may model a piece of a network consisting of the hosts $4$ and $5$, the routers $2$ and $3$, and the data center $1$. Furthermore, the owner of $1$ is surely interested in minimizing the cost of sending data to $5$ and, therefore, wants to solve the least cost problem by, perhaps, using Dijkstra's algorithm."
   ]
  },
  {
   "cell_type": "markdown",
   "metadata": {},
   "source": [
    "Time for you to take the wheel!\n",
    "-----\n",
    "You will work with the graph in Figure 5.3 in page 405.\n",
    "\n",
    "1. Make an instance `G` of the graph by adding the other edges in the following cell."
   ]
  },
  {
   "cell_type": "code",
   "execution_count": null,
   "metadata": {},
   "outputs": [],
   "source": [
    "G = nx.Graph()\n",
    "G.add_edges_from([('u', 'v', {'cost': 2}),\n",
    "                  ('u', 'x', {'cost': 1}),\n",
    "                  ('x', 'v', {'cost': 2})])"
   ]
  },
  {
   "cell_type": "markdown",
   "metadata": {},
   "source": [
    "2. Print the neighbors of node $y$."
   ]
  },
  {
   "cell_type": "code",
   "execution_count": null,
   "metadata": {},
   "outputs": [],
   "source": []
  },
  {
   "cell_type": "markdown",
   "metadata": {},
   "source": [
    "3. Plot the graph $G$. Note that this representation does not have to be the same as the one in Figure 5.3."
   ]
  },
  {
   "cell_type": "code",
   "execution_count": null,
   "metadata": {},
   "outputs": [],
   "source": []
  },
  {
   "cell_type": "markdown",
   "metadata": {},
   "source": [
    "4. Print the costs of the edges that are *incident* on $w$."
   ]
  },
  {
   "cell_type": "code",
   "execution_count": null,
   "metadata": {},
   "outputs": [],
   "source": []
  },
  {
   "cell_type": "markdown",
   "metadata": {},
   "source": [
    "5. Print the cost of the path $(u, x, y, z)$."
   ]
  },
  {
   "cell_type": "code",
   "execution_count": null,
   "metadata": {},
   "outputs": [],
   "source": [
    "path = ['u', 'x', 'y', 'z']\n",
    "#\n",
    "for current_node, next_node in pairwise(path):\n",
    "    pass\n",
    "#"
   ]
  },
  {
   "cell_type": "markdown",
   "metadata": {},
   "source": [
    "6. Print the least cost path between $u$ and $z$."
   ]
  },
  {
   "cell_type": "code",
   "execution_count": null,
   "metadata": {},
   "outputs": [],
   "source": []
  },
  {
   "cell_type": "markdown",
   "metadata": {},
   "source": [
    "7. Print the shortest path between $u$ and $z$."
   ]
  },
  {
   "cell_type": "code",
   "execution_count": null,
   "metadata": {},
   "outputs": [],
   "source": []
  }
 ],
 "metadata": {
  "kernelspec": {
   "display_name": "Python 3.9.0 64-bit ('venv': venv)",
   "language": "python",
   "name": "python390jvsc74a57bd064135b2376707fa015b40f24484fba7b2d8aae839c93c1a2dd58f1560c82a4dc"
  },
  "language_info": {
   "codemirror_mode": {
    "name": "ipython",
    "version": 3
   },
   "file_extension": ".py",
   "mimetype": "text/x-python",
   "name": "python",
   "nbconvert_exporter": "python",
   "pygments_lexer": "ipython3",
   "version": "3.9.0"
  }
 },
 "nbformat": 4,
 "nbformat_minor": 4
}